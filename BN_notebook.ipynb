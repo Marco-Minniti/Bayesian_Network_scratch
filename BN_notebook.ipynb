{
  "cells": [
    {
      "cell_type": "markdown",
      "metadata": {
        "id": "view-in-github",
        "colab_type": "text"
      },
      "source": [
        "<a href=\"https://colab.research.google.com/github/Marco-Minniti/Bayesian_Network_scratch/blob/main/BN_notebook.ipynb\" target=\"_parent\"><img src=\"https://colab.research.google.com/assets/colab-badge.svg\" alt=\"Open In Colab\"/></a>"
      ]
    },
    {
      "cell_type": "code",
      "execution_count": 9,
      "metadata": {
        "id": "pllyHdM3uFiv"
      },
      "outputs": [],
      "source": [
        "import numpy as np"
      ]
    },
    {
      "cell_type": "markdown",
      "metadata": {
        "id": "rbGEyZ61uFiw"
      },
      "source": [
        "<h4><b>Node Class</b></h4>\n",
        "\n",
        "Represents a node in a Bayesian network. It has two parameters in its constructor: `parents` and `probs`.\n",
        "\n",
        "The `parents` parameter is a list that contains the names of the parent nodes of the current node that influences the probability distribution of the current node.\n",
        "\n",
        "The `probs` parameter is a dictionary that represents the conditional probability distribution of the current node given its parent nodes. The keys of the dictionary are tuples that represent the different combinations of parent node values, and the values are dictionaries that represent the probabilities of different outcomes for the current node."
      ]
    },
    {
      "cell_type": "code",
      "execution_count": 10,
      "metadata": {
        "id": "-62jqkaTuFix"
      },
      "outputs": [],
      "source": [
        "class Node:\n",
        "    def __init__(self, parents, probs):\n",
        "        self.parents = parents\n",
        "        self.probs = probs"
      ]
    },
    {
      "cell_type": "markdown",
      "metadata": {
        "id": "piwOq97SuFix"
      },
      "source": [
        "<h4><b>Network Structure</b></h4>\n",
        "The Bayesian network is rapresented by a dictionary.\n",
        "\n",
        "Each `key` in the dictionary is the **name of a node** and the corresponding `value` is an instance of the class **Node** defined by two main attributes described in the class above so:\n",
        "\n",
        "**• parents** that is a list of parent nodes  \n",
        "**• probs** that is a dictionary that maps combinations of parent values to probability distributions of the node's possible values."
      ]
    },
    {
      "cell_type": "code",
      "source": [
        "# Shuffled net\n",
        "net = {\n",
        "\n",
        "    'Dinner': Node(['Lunch', 'Sport'], {('healthy', 'yes'): {'healthy': 0.9, 'unhealthy': 0.1}, ('healthy', 'no'): {'healthy': 0.6, 'unhealthy': 0.4}, ('unhealthy', 'yes'): {'healthy': 0.7, 'unhealthy': 0.3}, ('unhealthy', 'no'): {'healthy': 0.4, 'unhealthy': 0.6}}),\n",
        "    'Alarm': Node([], {'yes': 0.9, 'no': 0.1}),\n",
        "    'Breakfast': Node(['Wakeup', 'Alarm'], {('early', 'yes'): {'yes': 0.9, 'no': 0.1}, ('early', 'no'): {'yes': 0.9, 'no': 0.1}, ('late', 'yes'): {'yes': 0.6, 'no': 0.4}, ('late', 'no'): {'yes': 0.6, 'no': 0.4}}),\n",
        "    'Toilet': Node(['Breakfast'], {('yes'): {'quick': 0.7, 'slow': 0.3}, ('no'): {'quick': 0.4, 'slow': 0.6}}),\n",
        "    'Work': Node(['Shower'], {('quick'): {'productive': 0.9, 'unproductive': 0.1}, ('slow'): {'productive': 0.6, 'unproductive': 0.4}}),\n",
        "    'Meeting': Node(['Lunch'], {('healthy'): {'yes': 0.8, 'no': 0.2}, ('unhealthy'): {'yes': 0.4, 'no': 0.6}}),\n",
        "    'Sport': Node(['Work', 'Meeting'], {('productive', 'yes'): {'yes': 0.9, 'no': 0.1}, ('productive', 'no'): {'yes': 0.6, 'no': 0.4}, ('unproductive', 'yes'): {'yes': 0.7, 'no': 0.3}, ('unproductive', 'no'): {'yes': 0.4, 'no': 0.6}}),\n",
        "    'Wakeup': Node([], {'early': 0.5, 'late': 0.5}),\n",
        "    'Lunch': Node(['Work'], {('productive'): {'healthy': 0.7, 'unhealthy': 0.3}, ('unproductive'): {'healthy': 0.4, 'unhealthy': 0.6}}),\n",
        "    'Shower': Node(['Breakfast', 'Toilet'], {('yes', 'quick'): {'quick': 0.9, 'slow': 0.1}, ('yes', 'slow'): {'quick': 0.7, 'slow': 0.3}, ('no', 'quick'): {'quick': 0.6, 'slow': 0.4}, ('no', 'slow'): {'quick': 0.4, 'slow': 0.6}}),\n",
        "\n",
        "}"
      ],
      "metadata": {
        "id": "2kzl_HHEC2RH"
      },
      "execution_count": 11,
      "outputs": []
    },
    {
      "cell_type": "markdown",
      "metadata": {
        "id": "Nz6BLJK7uFiy"
      },
      "source": [
        "Network graphical rapresentation:\n",
        "![Img](https://drive.google.com/uc?export=view&id=1wWBoCsZds9D1VcPyEamcL3covJLuq5oV)\n"
      ]
    },
    {
      "cell_type": "markdown",
      "metadata": {
        "id": "3qgXr7iLuFiy"
      },
      "source": [
        "<h4><b>Network Class</b></h4>\n",
        "\n",
        "The constructor of the class takes as input a `net` dictionary representing the Bayesian network. Each key in the dictionary is the name of a node and the corresponding value is an instance of the Node class.\n",
        "\n",
        "**sample_node(self, node, evidence)**: This method samples from a specific node given the evidence. The evidence is a dictionary that maps node names to their sampled values. The method returns the sampled value from the specified node.\n",
        "\n",
        "**topological_sort(self)**: Method that performs a topological sorting of nodes in the network. Topological sorting is a linear list of nodes such that for every direct arc from node A to node B, A appears before B in the list. This is useful for making inferences about the network.\n",
        "\n",
        "**ancestral_sampling(self)**: This method performs ancestral sampling from the network, generating samples from a Bayesian network. It begins by sampling from the root nodes of the network and proceeds in topological order, sampling from each node conditioned by its parents."
      ]
    },
    {
      "cell_type": "code",
      "execution_count": 12,
      "metadata": {
        "id": "Cm4nWnRyuFiy"
      },
      "outputs": [],
      "source": [
        "class Network:\n",
        "    def __init__(self, net):\n",
        "        self.net = net\n",
        "\n",
        "    def topological_sort(self):\n",
        "        visited = set()\n",
        "        topo_order = []\n",
        "        def visit(node_name):\n",
        "            if node_name in visited:\n",
        "                return\n",
        "            visited.add(node_name)\n",
        "            for parent in self.net[node_name].parents:\n",
        "                visit(parent)\n",
        "            topo_order.append(node_name)\n",
        "        for node_name in self.net:\n",
        "            visit(node_name)\n",
        "        return topo_order\n",
        "\n",
        "    def sample_node(self, node, evidence):\n",
        "        probs = node.probs # probability of the selected node\n",
        "\n",
        "        parents_values=[]\n",
        "        if len(node.parents) > 1:\n",
        "            for parent in node.parents: # scroll through the parents of the selected node (the first one is skipped because it has no parents)\n",
        "                parents_values.append(evidence[parent])\n",
        "            probs = node.probs[tuple(parents_values)] # take the probabilities of the selected node\n",
        "        else:\n",
        "            if len(node.parents) == 1:\n",
        "                for parent in node.parents:\n",
        "                    probs = node.probs[evidence[parent]]\n",
        "        return np.random.choice(list(probs.keys()), p=list(probs.values())) # randomly choose among the keys (of the dictionary probs).....based on the probabilities specified by the values. (remember that the list chosen from where to extract the key depends on the value taken by the parent/parents)\n",
        "\n",
        "    def ancestral_sampling(self):\n",
        "        evidence = {}\n",
        "        sampled_nodes = {}\n",
        "        topo_order = self.topological_sort()  # add this line to get the topological order\n",
        "        for node_name in topo_order:  # iterate over nodes in topological order\n",
        "            node = self.net[node_name]\n",
        "            sampled_value = self.sample_node(node, evidence)\n",
        "            sampled_nodes[node_name] = sampled_value\n",
        "            evidence[node_name] = sampled_value\n",
        "        return sampled_nodes"
      ]
    },
    {
      "cell_type": "markdown",
      "metadata": {
        "id": "fm486aROuFiy"
      },
      "source": [
        "<h4><b>Script</b></h4>\n",
        "\n",
        "Generating an instance of the **Network** class using net and obtaining a **topological ordering** of the nodes in the network to be able to make inference about the network."
      ]
    },
    {
      "cell_type": "code",
      "execution_count": 13,
      "metadata": {
        "id": "v4UDmN22uFiy"
      },
      "outputs": [],
      "source": [
        "network = Network(net)\n",
        "topo_order = network.topological_sort()"
      ]
    },
    {
      "cell_type": "markdown",
      "metadata": {
        "id": "m4cTkVzouFiz"
      },
      "source": [
        "<h4><b>Test</b></h4>\n",
        "\n",
        "Running 10 times the ancestral sampling. Each of them represents a possible sequence of events given the structure of the network and the probability distributions of the nodes. This can be useful in understanding how the variables in the network interact with each other."
      ]
    },
    {
      "cell_type": "code",
      "execution_count": 15,
      "metadata": {
        "id": "OQGyDsA-uFiz",
        "outputId": "a985246c-8b94-4652-a8cb-70058b3b471e",
        "colab": {
          "base_uri": "https://localhost:8080/"
        }
      },
      "outputs": [
        {
          "output_type": "stream",
          "name": "stdout",
          "text": [
            "{'Wakeup': 'late', 'Alarm': 'no', 'Breakfast': 'yes', 'Toilet': 'quick', 'Shower': 'quick', 'Work': 'productive', 'Lunch': 'healthy', 'Meeting': 'yes', 'Sport': 'yes', 'Dinner': 'healthy'}\n",
            "{'Wakeup': 'late', 'Alarm': 'yes', 'Breakfast': 'no', 'Toilet': 'quick', 'Shower': 'quick', 'Work': 'productive', 'Lunch': 'unhealthy', 'Meeting': 'no', 'Sport': 'no', 'Dinner': 'unhealthy'}\n",
            "{'Wakeup': 'early', 'Alarm': 'yes', 'Breakfast': 'yes', 'Toilet': 'slow', 'Shower': 'quick', 'Work': 'productive', 'Lunch': 'healthy', 'Meeting': 'yes', 'Sport': 'yes', 'Dinner': 'unhealthy'}\n",
            "{'Wakeup': 'early', 'Alarm': 'yes', 'Breakfast': 'yes', 'Toilet': 'slow', 'Shower': 'slow', 'Work': 'unproductive', 'Lunch': 'unhealthy', 'Meeting': 'no', 'Sport': 'no', 'Dinner': 'unhealthy'}\n",
            "{'Wakeup': 'late', 'Alarm': 'yes', 'Breakfast': 'no', 'Toilet': 'quick', 'Shower': 'quick', 'Work': 'productive', 'Lunch': 'healthy', 'Meeting': 'yes', 'Sport': 'yes', 'Dinner': 'healthy'}\n",
            "{'Wakeup': 'late', 'Alarm': 'no', 'Breakfast': 'no', 'Toilet': 'slow', 'Shower': 'quick', 'Work': 'productive', 'Lunch': 'healthy', 'Meeting': 'yes', 'Sport': 'yes', 'Dinner': 'healthy'}\n",
            "{'Wakeup': 'early', 'Alarm': 'yes', 'Breakfast': 'yes', 'Toilet': 'slow', 'Shower': 'slow', 'Work': 'unproductive', 'Lunch': 'unhealthy', 'Meeting': 'no', 'Sport': 'no', 'Dinner': 'unhealthy'}\n",
            "{'Wakeup': 'late', 'Alarm': 'yes', 'Breakfast': 'yes', 'Toilet': 'quick', 'Shower': 'quick', 'Work': 'productive', 'Lunch': 'healthy', 'Meeting': 'yes', 'Sport': 'yes', 'Dinner': 'healthy'}\n",
            "{'Wakeup': 'early', 'Alarm': 'no', 'Breakfast': 'yes', 'Toilet': 'quick', 'Shower': 'quick', 'Work': 'productive', 'Lunch': 'healthy', 'Meeting': 'yes', 'Sport': 'yes', 'Dinner': 'healthy'}\n",
            "{'Wakeup': 'early', 'Alarm': 'yes', 'Breakfast': 'yes', 'Toilet': 'quick', 'Shower': 'quick', 'Work': 'productive', 'Lunch': 'healthy', 'Meeting': 'yes', 'Sport': 'yes', 'Dinner': 'healthy'}\n"
          ]
        }
      ],
      "source": [
        "for _ in range(10):\n",
        "    print(network.ancestral_sampling())"
      ]
    }
  ],
  "metadata": {
    "kernelspec": {
      "display_name": "Misc",
      "language": "python",
      "name": "python3"
    },
    "language_info": {
      "codemirror_mode": {
        "name": "ipython",
        "version": 3
      },
      "file_extension": ".py",
      "mimetype": "text/x-python",
      "name": "python",
      "nbconvert_exporter": "python",
      "pygments_lexer": "ipython3",
      "version": "3.12.2"
    },
    "colab": {
      "provenance": [],
      "include_colab_link": true
    }
  },
  "nbformat": 4,
  "nbformat_minor": 0
}