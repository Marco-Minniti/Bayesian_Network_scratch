{
 "cells": [
  {
   "cell_type": "code",
   "execution_count": 4,
   "metadata": {},
   "outputs": [],
   "source": [
    "import numpy as np"
   ]
  },
  {
   "cell_type": "code",
   "execution_count": 5,
   "metadata": {},
   "outputs": [],
   "source": [
    "class Node:\n",
    "    def __init__(self, parents, probs):\n",
    "        self.parents = parents\n",
    "        self.probs = probs"
   ]
  },
  {
   "cell_type": "code",
   "execution_count": 6,
   "metadata": {},
   "outputs": [],
   "source": [
    "# Shuffle net\n",
    "net = {\n",
    "\n",
    "    'Dinner': Node(['Lunch', 'Sport'], {('healthy', 'yes'): {'healthy': 0.9, 'unhealthy': 0.1}, ('healthy', 'no'): {'healthy': 0.6, 'unhealthy': 0.4}, ('unhealthy', 'yes'): {'healthy': 0.7, 'unhealthy': 0.3}, ('unhealthy', 'no'): {'healthy': 0.4, 'unhealthy': 0.6}}),\n",
    "    'Alarm': Node([], {'yes': 0.9, 'no': 0.1}),\n",
    "    'Breakfast': Node(['Wakeup', 'Alarm'], {('early', 'yes'): {'yes': 0.9, 'no': 0.1}, ('early', 'no'): {'yes': 0.9, 'no': 0.1}, ('late', 'yes'): {'yes': 0.6, 'no': 0.4}, ('late', 'no'): {'yes': 0.6, 'no': 0.4}}),\n",
    "    'Toilet': Node(['Breakfast'], {('yes'): {'quick': 0.7, 'slow': 0.3}, ('no'): {'quick': 0.4, 'slow': 0.6}}),\n",
    "    'Work': Node(['Shower'], {('quick'): {'productive': 0.9, 'unproductive': 0.1}, ('slow'): {'productive': 0.6, 'unproductive': 0.4}}),\n",
    "    'Meeting': Node(['Lunch'], {('healthy'): {'yes': 0.8, 'no': 0.2}, ('unhealthy'): {'yes': 0.4, 'no': 0.6}}),\n",
    "    'Sport': Node(['Work', 'Meeting'], {('productive', 'yes'): {'yes': 0.9, 'no': 0.1}, ('productive', 'no'): {'yes': 0.6, 'no': 0.4}, ('unproductive', 'yes'): {'yes': 0.7, 'no': 0.3}, ('unproductive', 'no'): {'yes': 0.4, 'no': 0.6}}),\n",
    "    'Wakeup': Node([], {'early': 0.5, 'late': 0.5}),\n",
    "    'Lunch': Node(['Work'], {('productive'): {'healthy': 0.7, 'unhealthy': 0.3}, ('unproductive'): {'healthy': 0.4, 'unhealthy': 0.6}}),\n",
    "    'Shower': Node(['Breakfast', 'Toilet'], {('yes', 'quick'): {'quick': 0.9, 'slow': 0.1}, ('yes', 'slow'): {'quick': 0.7, 'slow': 0.3}, ('no', 'quick'): {'quick': 0.6, 'slow': 0.4}, ('no', 'slow'): {'quick': 0.4, 'slow': 0.6}}),\n",
    "    \n",
    "}"
   ]
  },
  {
   "cell_type": "code",
   "execution_count": 7,
   "metadata": {},
   "outputs": [],
   "source": [
    "# Network class that contains the nodes and methods to calculate the probability of an event \n",
    "class Network:\n",
    "    def __init__(self, net):\n",
    "        self.net = net\n",
    "\n",
    "    def topological_sort(self):\n",
    "        visited = set()\n",
    "        topo_order = []\n",
    "        def visit(node_name):\n",
    "            if node_name in visited:\n",
    "                return\n",
    "            visited.add(node_name)\n",
    "            for parent in self.net[node_name].parents:\n",
    "                visit(parent)\n",
    "            topo_order.append(node_name)\n",
    "        for node_name in self.net:\n",
    "            visit(node_name)\n",
    "        return topo_order\n",
    "\n",
    "    def sample_node(self, node, evidence): \n",
    "        probs = node.probs # probability of the selected node\n",
    "        \n",
    "        parents_values=[]\n",
    "        if len(node.parents) > 1:\n",
    "            for parent in node.parents: # scroll through the parents of the selected node (the first one is skipped because it has no parents)\n",
    "                parents_values.append(evidence[parent])\n",
    "            probs = node.probs[tuple(parents_values)] # take the probabilities of the selected node\n",
    "        else:\n",
    "            if len(node.parents) == 1:\n",
    "                for parent in node.parents:\n",
    "                    probs = node.probs[evidence[parent]]\n",
    "        return np.random.choice(list(probs.keys()), p=list(probs.values())) # randomly choose among the keys (of the dictionary probs).....based on the probabilities specified by the values. (remember that the list chosen from where to extract the key depends on the value taken by the parent/parents)\n",
    "\n",
    "    def ancestral_sampling(self):\n",
    "        evidence = {}\n",
    "        sampled_nodes = {}\n",
    "        topo_order = self.topological_sort()  # Add this line to get the topological order\n",
    "        for node_name in topo_order:  # Iterate over nodes in topological order\n",
    "            node = self.net[node_name]\n",
    "            sampled_value = self.sample_node(node, evidence)\n",
    "            sampled_nodes[node_name] = sampled_value\n",
    "            evidence[node_name] = sampled_value\n",
    "        return sampled_nodes"
   ]
  },
  {
   "cell_type": "code",
   "execution_count": 8,
   "metadata": {},
   "outputs": [],
   "source": [
    "network = Network(net)\n",
    "topo_order = network.topological_sort()"
   ]
  },
  {
   "cell_type": "code",
   "execution_count": 21,
   "metadata": {},
   "outputs": [
    {
     "name": "stdout",
     "output_type": "stream",
     "text": [
      "{'Wakeup': 'late', 'Alarm': 'yes', 'Breakfast': 'yes', 'Toilet': 'quick', 'Shower': 'quick', 'Work': 'productive', 'Lunch': 'healthy', 'Meeting': 'yes', 'Sport': 'yes', 'Dinner': 'healthy'}\n",
      "{'Wakeup': 'late', 'Alarm': 'yes', 'Breakfast': 'no', 'Toilet': 'slow', 'Shower': 'quick', 'Work': 'productive', 'Lunch': 'healthy', 'Meeting': 'yes', 'Sport': 'yes', 'Dinner': 'healthy'}\n",
      "{'Wakeup': 'early', 'Alarm': 'yes', 'Breakfast': 'yes', 'Toilet': 'slow', 'Shower': 'quick', 'Work': 'unproductive', 'Lunch': 'unhealthy', 'Meeting': 'yes', 'Sport': 'yes', 'Dinner': 'healthy'}\n",
      "{'Wakeup': 'late', 'Alarm': 'yes', 'Breakfast': 'yes', 'Toilet': 'slow', 'Shower': 'quick', 'Work': 'productive', 'Lunch': 'unhealthy', 'Meeting': 'no', 'Sport': 'yes', 'Dinner': 'healthy'}\n",
      "{'Wakeup': 'late', 'Alarm': 'yes', 'Breakfast': 'yes', 'Toilet': 'quick', 'Shower': 'quick', 'Work': 'productive', 'Lunch': 'healthy', 'Meeting': 'no', 'Sport': 'no', 'Dinner': 'healthy'}\n",
      "{'Wakeup': 'early', 'Alarm': 'yes', 'Breakfast': 'yes', 'Toilet': 'quick', 'Shower': 'quick', 'Work': 'productive', 'Lunch': 'healthy', 'Meeting': 'yes', 'Sport': 'yes', 'Dinner': 'unhealthy'}\n",
      "{'Wakeup': 'early', 'Alarm': 'yes', 'Breakfast': 'yes', 'Toilet': 'slow', 'Shower': 'quick', 'Work': 'productive', 'Lunch': 'healthy', 'Meeting': 'no', 'Sport': 'yes', 'Dinner': 'healthy'}\n",
      "{'Wakeup': 'late', 'Alarm': 'yes', 'Breakfast': 'no', 'Toilet': 'quick', 'Shower': 'quick', 'Work': 'unproductive', 'Lunch': 'unhealthy', 'Meeting': 'no', 'Sport': 'no', 'Dinner': 'unhealthy'}\n",
      "{'Wakeup': 'late', 'Alarm': 'yes', 'Breakfast': 'yes', 'Toilet': 'quick', 'Shower': 'quick', 'Work': 'productive', 'Lunch': 'healthy', 'Meeting': 'no', 'Sport': 'no', 'Dinner': 'unhealthy'}\n",
      "{'Wakeup': 'early', 'Alarm': 'yes', 'Breakfast': 'yes', 'Toilet': 'slow', 'Shower': 'quick', 'Work': 'productive', 'Lunch': 'healthy', 'Meeting': 'yes', 'Sport': 'yes', 'Dinner': 'healthy'}\n"
     ]
    }
   ],
   "source": [
    "for _ in range(10):\n",
    "    print(network.ancestral_sampling())"
   ]
  }
 ],
 "metadata": {
  "kernelspec": {
   "display_name": "Misc",
   "language": "python",
   "name": "python3"
  },
  "language_info": {
   "codemirror_mode": {
    "name": "ipython",
    "version": 3
   },
   "file_extension": ".py",
   "mimetype": "text/x-python",
   "name": "python",
   "nbconvert_exporter": "python",
   "pygments_lexer": "ipython3",
   "version": "3.12.2"
  }
 },
 "nbformat": 4,
 "nbformat_minor": 2
}
